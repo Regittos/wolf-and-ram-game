{
  "nbformat": 4,
  "nbformat_minor": 0,
  "metadata": {
    "colab": {
      "provenance": [],
      "include_colab_link": true
    },
    "kernelspec": {
      "name": "python3",
      "display_name": "Python 3"
    },
    "language_info": {
      "name": "python"
    }
  },
  "cells": [
    {
      "cell_type": "markdown",
      "metadata": {
        "id": "view-in-github",
        "colab_type": "text"
      },
      "source": [
        "<a href=\"https://colab.research.google.com/github/Regittos/wolf-and-ram-game/blob/main/VIAGEM.ipynb\" target=\"_parent\"><img src=\"https://colab.research.google.com/assets/colab-badge.svg\" alt=\"Open In Colab\"/></a>"
      ]
    },
    {
      "cell_type": "code",
      "execution_count": null,
      "metadata": {
        "id": "PjfK00q_WO76"
      },
      "outputs": [],
      "source": [
        "import torch\n",
        "from torch import nn\n",
        "import numpy as np"
      ]
    },
    {
      "cell_type": "markdown",
      "source": [
        "Alface, carneiro, Lobo e Pessoa: objetos\n",
        "\n",
        "Ir para direita, ir para esquerda: mudança estado\n",
        "\n",
        "Lado esquerdo e lado direito: estado\n",
        "\n",
        " Regras:\n",
        "\n",
        "-No máximo dois objetos  por cada ação(método)\n",
        "\n",
        "-Um dos objetos da ação sempre será a pessoa\n",
        "\n",
        "-Quando estado de alface == estado de carneiro: perder jogo\n",
        "\n",
        "-quando estado de carneiro == estado de lobo: perde\n",
        "-"
      ],
      "metadata": {
        "id": "nBcizbJ_XPGw"
      }
    },
    {
      "cell_type": "markdown",
      "source": [
        "# Classes\n",
        "Lado esquerdo: booleano (0)\n",
        "Lado direito: booleano(1)"
      ],
      "metadata": {
        "id": "ErIT0MwZXTXF"
      }
    },
    {
      "cell_type": "code",
      "source": [
        "sides = {\n",
        "    0:'esquerda',\n",
        "    1:'direita'\n",
        "}"
      ],
      "metadata": {
        "id": "IvQfRKU6aXcc"
      },
      "execution_count": null,
      "outputs": []
    },
    {
      "cell_type": "code",
      "source": [
        "class Travelers:\n",
        "  def __init__(self, name):\n",
        "    self.name = name\n",
        "    #self.side = sides[0]\n",
        "    self.side = 0\n",
        "\n"
      ],
      "metadata": {
        "id": "Yxtnplb-XPzd"
      },
      "execution_count": null,
      "outputs": []
    },
    {
      "cell_type": "code",
      "source": [
        "class game:\n",
        "  def __init__(self):\n",
        "\n",
        "    self.lettuce = Travelers(\"lettuce\")\n",
        "    self.ram = Travelers(\"ram\")\n",
        "    self.wolf = Travelers(\"wolf\")\n",
        "    self.person = Travelers(\"person\")\n",
        "\n"
      ],
      "metadata": {
        "id": "EYyAdkq4bPBH"
      },
      "execution_count": null,
      "outputs": []
    },
    {
      "cell_type": "code",
      "source": [
        "game1 = game()\n",
        "#game1.ram.side\n",
        "#game1.ram.side=sides[1]\n",
        "#game1.ram.side"
      ],
      "metadata": {
        "id": "O96ipMYkbjX2"
      },
      "execution_count": null,
      "outputs": []
    },
    {
      "cell_type": "code",
      "source": [
        "def move(ator):\n",
        "  if ator.side == 0:\n",
        "    ator.side = 1\n",
        "  else:\n",
        "    ator.side = 0"
      ],
      "metadata": {
        "id": "QFAMP_M01whn"
      },
      "execution_count": null,
      "outputs": []
    },
    {
      "cell_type": "code",
      "source": [
        "def gameStatus(game):\n",
        "  if (game[0].side == game[1].side and game[1].side is not game[3].side) or (game[1].side == game[2].side and game[2].side is not game[3].side):\n",
        "    return 'GAME OVER'\n",
        "  elif(game[0].side == game[1].side and game[1].side == game[2].side and game[2].side == game[3].side and game[3].side == 1):\n",
        "    return 'YOU WON'\n",
        "  else:\n",
        "    return \"continue\"\n",
        "\n",
        "\n",
        "\n",
        "  #dont give up\n",
        "  #be grateful\n",
        "  #drink water"
      ],
      "metadata": {
        "id": "-sjff0cZfVRh"
      },
      "execution_count": null,
      "outputs": []
    },
    {
      "cell_type": "markdown",
      "source": [
        "# Objetos\n",
        "alface: lettuce\n",
        "\n",
        "carneiro: ram\n",
        "\n",
        "lobo: Wolf\n",
        "\n",
        "pessoa: person"
      ],
      "metadata": {
        "id": "r9kJT82cXh-O"
      }
    },
    {
      "cell_type": "code",
      "source": [
        "g = []\n",
        "g.append(Travelers(\"lettuce\"))\n",
        "g.append(Travelers(\"ram\"))\n",
        "g.append(Travelers(\"wolf\"))\n",
        "g.append(Travelers(\"person\"))"
      ],
      "metadata": {
        "id": "KFAmY786Xi_i"
      },
      "execution_count": null,
      "outputs": []
    },
    {
      "cell_type": "code",
      "source": [
        "def show(game):\n",
        "  for i in range(4):\n",
        "    if game[i].side == 0:\n",
        "      print(game[i].name, \" \",end='')\n",
        "  print(\" |||||||||||  \",end='')\n",
        "  for i in range(4):\n",
        "    if game[i].side == 1:\n",
        "      print(game[i].name, \" \",end='')\n",
        "\n"
      ],
      "metadata": {
        "id": "vOoFGjSLt2Mv"
      },
      "execution_count": null,
      "outputs": []
    },
    {
      "cell_type": "code",
      "source": [
        "def move(ator):\n",
        "  if g[ator].side == 0:\n",
        "    g[ator].side = 1\n",
        "  else:\n",
        "    g[ator].side = 0"
      ],
      "metadata": {
        "id": "SSvppFb7wcxi"
      },
      "execution_count": null,
      "outputs": []
    },
    {
      "cell_type": "code",
      "source": [
        "def reset():\n",
        "  g[0].side = 0\n",
        "  g[1].side = 0\n",
        "  g[2].side = 0\n",
        "  g[3].side = 0\n"
      ],
      "metadata": {
        "id": "yk7LePg12FU2"
      },
      "execution_count": null,
      "outputs": []
    },
    {
      "cell_type": "code",
      "source": [
        "def play(a,b):\n",
        "  if a == 0 or a == 1 or a == 2:\n",
        "    move(a)#ator\n",
        "  move(3)#pessoa\n",
        "  show(g)\n",
        "  return gameStatus(g)"
      ],
      "metadata": {
        "id": "lBAAOAGGw8jP"
      },
      "execution_count": 53,
      "outputs": []
    },
    {
      "cell_type": "code",
      "source": [
        "reset()\n",
        "show(g)\n",
        "while(1):\n",
        "  a = int(input('Digite o primeiro ator: '))\n",
        "  #b = int(input('Digite o segundo ator: '))\n",
        "  status = play(a,3)\n",
        "  if(status=='GAME OVER'):\n",
        "    print('\\n',status)\n",
        "    break\n",
        "  elif(status =='YOU WON'):\n",
        "    print('\\n',status)\n",
        "    break\n",
        "\n",
        "\n"
      ],
      "metadata": {
        "colab": {
          "base_uri": "https://localhost:8080/"
        },
        "id": "H-er8CaD2dI8",
        "outputId": "5b2a8ce5-0a94-45ab-dd10-821b79de0f18"
      },
      "execution_count": 62,
      "outputs": [
        {
          "output_type": "stream",
          "name": "stdout",
          "text": [
            "lettuce  ram  wolf  person   |||||||||||  Digite o primeiro ator: 4\n",
            "lettuce  ram  wolf   |||||||||||  person  \n",
            " GAME OVER\n"
          ]
        }
      ]
    }
  ]
}